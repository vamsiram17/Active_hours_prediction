{
  "nbformat": 4,
  "nbformat_minor": 0,
  "metadata": {
    "colab": {
      "name": "sleep_random_forest.ipynb",
      "provenance": [],
      "collapsed_sections": []
    },
    "kernelspec": {
      "name": "python3",
      "display_name": "Python 3"
    },
    "language_info": {
      "name": "python"
    }
  },
  "cells": [
    {
      "cell_type": "code",
      "metadata": {
        "id": "8c3SpaPUsToh"
      },
      "source": [
        "import pandas as pd\n",
        "import matplotlib.pyplot as plt\n",
        "import numpy as np\n",
        "\n",
        "from sklearn import metrics\n",
        "from sklearn.model_selection import train_test_split\n",
        "\n",
        "data=pd.read_csv('sleep_final.csv')\n",
        "data=data.dropna()\n",
        "data.head(5)\n",
        "\n",
        "x=data['Time slept(in hrs)'].values.reshape(-1,1)\n",
        "y=data['Time active(in hrs)'].values.reshape(-1,1)\n",
        "\n",
        "x_train, x_test, y_train, y_test = train_test_split(x, y, test_size=0.30, random_state=42)"
      ],
      "execution_count": 100,
      "outputs": []
    },
    {
      "cell_type": "code",
      "metadata": {
        "colab": {
          "base_uri": "https://localhost:8080/"
        },
        "id": "ErDKzQPTss-i",
        "outputId": "9c64a7bc-e720-46ea-ab82-061299a98617"
      },
      "source": [
        "from sklearn.ensemble import RandomForestRegressor\n",
        "  \n",
        "regressor = RandomForestRegressor()\n",
        "  \n",
        "regressor.fit(x_train,y_train) "
      ],
      "execution_count": 101,
      "outputs": [
        {
          "output_type": "stream",
          "text": [
            "/usr/local/lib/python3.7/dist-packages/ipykernel_launcher.py:5: DataConversionWarning: A column-vector y was passed when a 1d array was expected. Please change the shape of y to (n_samples,), for example using ravel().\n",
            "  \"\"\"\n"
          ],
          "name": "stderr"
        },
        {
          "output_type": "execute_result",
          "data": {
            "text/plain": [
              "RandomForestRegressor(bootstrap=True, ccp_alpha=0.0, criterion='mse',\n",
              "                      max_depth=None, max_features='auto', max_leaf_nodes=None,\n",
              "                      max_samples=None, min_impurity_decrease=0.0,\n",
              "                      min_impurity_split=None, min_samples_leaf=1,\n",
              "                      min_samples_split=2, min_weight_fraction_leaf=0.0,\n",
              "                      n_estimators=100, n_jobs=None, oob_score=False,\n",
              "                      random_state=None, verbose=0, warm_start=False)"
            ]
          },
          "metadata": {
            "tags": []
          },
          "execution_count": 101
        }
      ]
    },
    {
      "cell_type": "code",
      "metadata": {
        "colab": {
          "base_uri": "https://localhost:8080/"
        },
        "id": "qayVc3Losvs0",
        "outputId": "c4ce8233-21c7-4634-c37c-86aa07d4cae8"
      },
      "source": [
        "y_pred = regressor.predict(x_test)\n",
        "regressor.predict([[5.2]])"
      ],
      "execution_count": 102,
      "outputs": [
        {
          "output_type": "execute_result",
          "data": {
            "text/plain": [
              "array([8.56929631])"
            ]
          },
          "metadata": {
            "tags": []
          },
          "execution_count": 102
        }
      ]
    },
    {
      "cell_type": "code",
      "metadata": {
        "colab": {
          "base_uri": "https://localhost:8080/",
          "height": 295
        },
        "id": "e51ItNG0s1up",
        "outputId": "fa3f7e55-2864-4660-cdf8-2b38ff43497e"
      },
      "source": [
        "X_grid = np.arange(min(x), max(x), 0.01) \n",
        "X_grid = X_grid.reshape((len(X_grid), 1))\n",
        "plt.scatter(x, y, color = 'green')  \n",
        "plt.plot(X_grid, regressor.predict(X_grid),color = 'black') \n",
        "plt.title('Random Forest Regression')\n",
        "plt.xlabel('Time slept(in hrs)')\n",
        "plt.ylabel('Time Active(in hrs)')\n",
        "plt.show()\n"
      ],
      "execution_count": 103,
      "outputs": [
        {
          "output_type": "display_data",
          "data": {
            "image/png": "[encoded data removed]",
            "text/plain": [
              "<Figure size 432x288 with 1 Axes>"
            ]
          },
          "metadata": {
            "tags": [],
            "needs_background": "light"
          }
        }
      ]
    },
    {
      "cell_type": "code",
      "metadata": {
        "colab": {
          "base_uri": "https://localhost:8080/"
        },
        "id": "2KVAJHP16Wkm",
        "outputId": "6d8843a0-6843-4dc3-9f81-ecb91bb05352"
      },
      "source": [
        "from sklearn.metrics import mean_squared_error,r2_score\n",
        "mse=mean_squared_error(y_test,y_pred)\n",
        "r_2=r2_score(y_test,y_pred)\n",
        "\n",
        "print('Mean Square Error - {}'.format(mse))\n",
        "print('R2 Score - {}'.format(r_2))"
      ],
      "execution_count": 104,
      "outputs": [
        {
          "output_type": "stream",
          "text": [
            "Mean Square Error - 0.06918372747752735\n",
            "R2 Score - 0.9696341072455221\n"
          ],
          "name": "stdout"
        }
      ]
    }
  ]
}